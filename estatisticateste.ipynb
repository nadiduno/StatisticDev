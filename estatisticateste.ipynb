{
  "cells": [
    {
      "cell_type": "code",
      "execution_count": 8,
      "metadata": {
        "id": "LDY1PGA5NlmV"
      },
      "outputs": [],
      "source": [
        "import pandas as pd\n",
        "import numpy as np\n",
        "import random\n",
        "import string"
      ]
    },
    {
      "cell_type": "markdown",
      "source": [
        "##Escreva em código (Python)  uma solução para identificar a média da coluna \"rating\" por \"movieId\", considerando que o nome da base é \"dados\".\n",
        "ratin:{4,4,4,5,5} e movield:{1,3,6,47,50}"
      ],
      "metadata": {
        "id": "HSFzHLVD3PNe"
      }
    },
    {
      "cell_type": "code",
      "execution_count": 9,
      "metadata": {
        "id": "nQyiSM1fgpgX",
        "colab": {
          "base_uri": "https://localhost:8080/"
        },
        "outputId": "944c5689-f26e-4222-b50e-4ee8b879587b"
      },
      "outputs": [
        {
          "output_type": "stream",
          "name": "stdout",
          "text": [
            "movieId\n",
            "1     4.0\n",
            "3     4.0\n",
            "6     4.0\n",
            "47    5.0\n",
            "50    5.0\n",
            "Name: rating, dtype: float64\n"
          ]
        }
      ],
      "source": [
        "dados = pd.DataFrame({'movieId': [1, 3, 6, 47, 50],\n",
        "                      'rating': [4, 4, 4, 5, 5]\n",
        "                      })\n",
        "\n",
        "#Média da coluna \"rating\" por \"movieId\"\n",
        "media_por_movieId = dados.groupby('movieId')['rating'].mean()\n",
        "\n",
        "print(media_por_movieId)"
      ]
    },
    {
      "cell_type": "markdown",
      "source": [
        "Isso mostra a média da coluna “rating” para cada valor único na coluna “movieId”."
      ],
      "metadata": {
        "id": "xAAFYJKQC0ga"
      }
    },
    {
      "cell_type": "markdown",
      "metadata": {
        "id": "bm4P49ykgow9"
      },
      "source": [
        "## Escreva em código em Python um método que você usaria para identificar se as colunas  \"Z\" e \"Y\", uma variável categórica e uma quantitativa, respectivamente, possuem alguma associação.\n"
      ]
    },
    {
      "cell_type": "markdown",
      "source": [
        "Para identificar se as colunas “Z” e “Y”, uma variável categórica e uma quantitativa, respectivamente, possuem alguma associação, podemos usar o teste de ANOVA."
      ],
      "metadata": {
        "id": "FiOC2qy8DYak"
      }
    },
    {
      "cell_type": "code",
      "execution_count": 10,
      "metadata": {
        "id": "TlvffLRIjU5e",
        "colab": {
          "base_uri": "https://localhost:8080/"
        },
        "outputId": "b0cb6826-0a47-461d-9698-736bdf91f385"
      },
      "outputs": [
        {
          "output_type": "stream",
          "name": "stdout",
          "text": [
            "Há uma associação significativa entre as colunas 'Z' e 'Y'.\n"
          ]
        },
        {
          "output_type": "stream",
          "name": "stderr",
          "text": [
            "/usr/local/lib/python3.10/dist-packages/scipy/stats/_stats_py.py:4141: DegenerateDataWarning: all input arrays have length 1.  f_oneway requires that at least one input has length greater than 1.\n",
            "  warnings.warn(stats.DegenerateDataWarning(msg))\n"
          ]
        }
      ],
      "source": [
        "from scipy.stats import f_oneway\n",
        "\n",
        "dados = pd.DataFrame({\n",
        "    'Z': ['A', 'B', 'C', 'D', 'E'],\n",
        "    'Y': ['1', '2', '3', '4', '5']\n",
        "})\n",
        "\n",
        "#ANOVA\n",
        "stat, p = f_oneway(dados[dados['Z'] == 'A']['Y'], dados[dados['Z'] == 'B']['Y'], dados[dados['Z'] == 'C']['Y'], dados[dados['Z'] == 'D']['Y'], dados[dados['Z'] == 'E']['Y'])\n",
        "\n",
        "\n",
        "if p > 0.05:\n",
        "    print(\"Não há associação significativa entre as colunas 'Z' e 'Y'.\")\n",
        "else:\n",
        "    print(\"Há uma associação significativa entre as colunas 'Z' e 'Y'.\")"
      ]
    },
    {
      "cell_type": "markdown",
      "metadata": {
        "id": "CviP05k6jNXE"
      },
      "source": [
        "##Escreva em código em Python um método que você usaria para identificar se as colunas \"X\" e \"Y\", duas variáveis categóricas, possuem alguma associação."
      ]
    },
    {
      "cell_type": "markdown",
      "metadata": {
        "id": "Y--SFUmCjN1r"
      },
      "source": [
        "Para identificar se as colunas “X” e “Y”, duas variáveis categóricas, possuem alguma associação, podemos usar o teste do qui-quadrado de Pearson."
      ]
    },
    {
      "cell_type": "code",
      "execution_count": 11,
      "metadata": {
        "colab": {
          "base_uri": "https://localhost:8080/"
        },
        "id": "pV3rc7VpjOGN",
        "outputId": "5fbfd989-fde4-4c58-b09b-fd1c1e88f04c"
      },
      "outputs": [
        {
          "output_type": "stream",
          "name": "stdout",
          "text": [
            "Não há associação significativa entre as colunas 'X' e 'Y'.\n"
          ]
        }
      ],
      "source": [
        "from scipy.stats import chi2_contingency\n",
        "\n",
        "dados = pd.DataFrame({'X': ['A', 'B', 'C', 'D', 'E'],\n",
        "                      'Y': ['F', 'G', 'H', 'I', 'J']\n",
        "                      })\n",
        "\n",
        "#Qui-quadrado de Pearson\n",
        "stat, p, dof, expected = chi2_contingency(pd.crosstab(dados['X'], dados['Y']))\n",
        "\n",
        "\n",
        "if p > 0.05:\n",
        "    print(\"Não há associação significativa entre as colunas 'X' e 'Y'.\")\n",
        "else:\n",
        "    print(\"Há uma associação significativa entre as colunas 'X' e 'Y'.\")\n"
      ]
    },
    {
      "cell_type": "markdown",
      "metadata": {
        "id": "uQTU6eD0nuuW"
      },
      "source": [
        "No contexto do teste do qui-quadrado de Pearson, stat é a estatística do qui-quadrado, p é o valor-p, dof é o número de graus de liberdade e expected é uma matriz de valores esperados."
      ]
    },
    {
      "cell_type": "markdown",
      "metadata": {
        "id": "2uA-vsP_oGxc"
      },
      "source": [
        "##Um trecho de uma rodoviária estadual, quando é utilizado o radar, são verificadas em média 7 infrações diárias por excesso de velocidade. O chefe de polícia acredita que este número pode ter aumentado. Para verificar isso, o radar foi mantido por 10 dias consecutivos. Os resultados são dados a seguir.\n",
        "8,9,5,7,8,12,6,9,6,10\n",
        "Com base neles, demonstre e interprete em código (Python ou R) se ao nível de 5% de significância há evidências para se afirmar que o número médio de infrações diárias por excesso de velocidade aumentou."
      ]
    },
    {
      "cell_type": "markdown",
      "metadata": {
        "id": "vJnlN6ofodjk"
      },
      "source": [
        "Para testar se o número médio de infrações diárias por excesso de velocidade aumentou, podemos usar um teste t de uma amostra. O teste t é usado para determinar se a média de uma amostra é significativamente diferente de um valor conhecido ou hipotético."
      ]
    },
    {
      "cell_type": "code",
      "execution_count": 12,
      "metadata": {
        "colab": {
          "base_uri": "https://localhost:8080/"
        },
        "id": "JTOkbsE9oFbQ",
        "outputId": "84ef5bc4-0689-4234-ac7e-ca4a49a1f478"
      },
      "outputs": [
        {
          "output_type": "stream",
          "name": "stdout",
          "text": [
            "Não há evidências para afirmar que o número médio de infrações diárias por excesso de velocidade aumentou.\n"
          ]
        }
      ],
      "source": [
        "\n",
        "from scipy.stats import ttest_1samp\n",
        "\n",
        "amostra = np.array([8, 9, 5, 7, 8, 12, 6, 9, 6, 10])\n",
        "hipotese_nula = 7\n",
        "stat, p = ttest_1samp(amostra, hipotese_nula)\n",
        "if p > 0.05:\n",
        "    print(\"Não há evidências para afirmar que o número médio de infrações diárias por excesso de velocidade aumentou.\")\n",
        "else:\n",
        "    print(\"Há evidências para afirmar que o número médio de infrações diárias por excesso de velocidade aumentou.\")\n"
      ]
    },
    {
      "cell_type": "markdown",
      "metadata": {
        "id": "9CsJ2_BNqYJQ"
      },
      "source": [
        "##Escreva em código (Python)  uma solução para identificar a média da coluna \"rating\" por \"movieId\", considerando que o nome da base é \"dados\". ratin(4,4,4,5,5) e movield(1,3,6,47,50)"
      ]
    },
    {
      "cell_type": "code",
      "execution_count": 13,
      "metadata": {
        "colab": {
          "base_uri": "https://localhost:8080/"
        },
        "id": "2PxXvFkzqsre",
        "outputId": "400dc50b-9b39-4752-ae06-5a53de776b35"
      },
      "outputs": [
        {
          "output_type": "stream",
          "name": "stdout",
          "text": [
            "movieId\n",
            "1     4.0\n",
            "3     4.0\n",
            "6     4.0\n",
            "47    5.0\n",
            "50    5.0\n",
            "Name: rating, dtype: float64\n"
          ]
        }
      ],
      "source": [
        "dados = pd.DataFrame({\n",
        "    'rating': [4, 4, 4, 5, 5],\n",
        "    'movieId': [1, 3, 6, 47, 50]\n",
        "})\n",
        "# Calcule a média da coluna \"rating\" por \"movieId\"\n",
        "media_por_movieId = dados.groupby('movieId')['rating'].mean()\n",
        "\n",
        "# Imprima o resultado\n",
        "print(media_por_movieId)"
      ]
    },
    {
      "cell_type": "markdown",
      "metadata": {
        "id": "U0rPiqYytQGX"
      },
      "source": [
        "##Criar uma tabela com os valores de estimate, std error, t value e Pr(>|t|) para cada variável independente. Use valores aleatorios"
      ]
    },
    {
      "cell_type": "markdown",
      "metadata": {
        "id": "tWpPubEnub0f"
      },
      "source": [
        "Estimate: O coeficiente de estimativa é a mudança estimada na variável dependente para uma unidade de mudança na variável independente correspondente.\n",
        "Std. Error: O erro padrão é uma medida da variabilidade da estimativa do coeficiente. Ele é usado para calcular o intervalo de confiança e o valor-p.\n",
        "t value: O valor t é uma medida de quão significativo é o coeficiente. Ele é calculado como a estimativa do coeficiente dividida pelo erro padrão.\n",
        "Pr(>|t|): O valor-p é a probabilidade de obter um valor t tão extremo ou mais extremo do que o observado, assumindo que a hipótese nula é verdadeira. É usado para testar a significância estatística do coeficiente."
      ]
    },
    {
      "cell_type": "markdown",
      "metadata": {
        "id": "ihIfR226vWkR"
      },
      "source": [
        "StatsModels: Uma biblioteca para modelagem estatística em Python. Pode ser usada para ajustar modelos de regressão linear e calcular os valores de estimate, std error, t value e Pr(>|t|)."
      ]
    },
    {
      "cell_type": "code",
      "execution_count": 14,
      "metadata": {
        "colab": {
          "base_uri": "https://localhost:8080/",
          "height": 713
        },
        "id": "kxWJYXYztRl_",
        "outputId": "776de6cc-d811-46f7-e2c4-8ca65058db9d"
      },
      "outputs": [
        {
          "output_type": "display_data",
          "data": {
            "text/plain": [
              "   dependente  independente1  independente2\n",
              "0    0.608675       0.690494       0.670748\n",
              "1    0.915705       0.108158       0.470358\n",
              "2    0.666905       0.524050       0.803145\n",
              "3    0.427261       0.993470       0.329855\n",
              "4    0.349562       0.221315       0.220693"
            ],
            "text/html": [
              "\n",
              "  <div id=\"df-aa5ba433-caf3-4e41-bbfe-3f119a618604\" class=\"colab-df-container\">\n",
              "    <div>\n",
              "<style scoped>\n",
              "    .dataframe tbody tr th:only-of-type {\n",
              "        vertical-align: middle;\n",
              "    }\n",
              "\n",
              "    .dataframe tbody tr th {\n",
              "        vertical-align: top;\n",
              "    }\n",
              "\n",
              "    .dataframe thead th {\n",
              "        text-align: right;\n",
              "    }\n",
              "</style>\n",
              "<table border=\"1\" class=\"dataframe\">\n",
              "  <thead>\n",
              "    <tr style=\"text-align: right;\">\n",
              "      <th></th>\n",
              "      <th>dependente</th>\n",
              "      <th>independente1</th>\n",
              "      <th>independente2</th>\n",
              "    </tr>\n",
              "  </thead>\n",
              "  <tbody>\n",
              "    <tr>\n",
              "      <th>0</th>\n",
              "      <td>0.608675</td>\n",
              "      <td>0.690494</td>\n",
              "      <td>0.670748</td>\n",
              "    </tr>\n",
              "    <tr>\n",
              "      <th>1</th>\n",
              "      <td>0.915705</td>\n",
              "      <td>0.108158</td>\n",
              "      <td>0.470358</td>\n",
              "    </tr>\n",
              "    <tr>\n",
              "      <th>2</th>\n",
              "      <td>0.666905</td>\n",
              "      <td>0.524050</td>\n",
              "      <td>0.803145</td>\n",
              "    </tr>\n",
              "    <tr>\n",
              "      <th>3</th>\n",
              "      <td>0.427261</td>\n",
              "      <td>0.993470</td>\n",
              "      <td>0.329855</td>\n",
              "    </tr>\n",
              "    <tr>\n",
              "      <th>4</th>\n",
              "      <td>0.349562</td>\n",
              "      <td>0.221315</td>\n",
              "      <td>0.220693</td>\n",
              "    </tr>\n",
              "  </tbody>\n",
              "</table>\n",
              "</div>\n",
              "    <div class=\"colab-df-buttons\">\n",
              "\n",
              "  <div class=\"colab-df-container\">\n",
              "    <button class=\"colab-df-convert\" onclick=\"convertToInteractive('df-aa5ba433-caf3-4e41-bbfe-3f119a618604')\"\n",
              "            title=\"Convert this dataframe to an interactive table.\"\n",
              "            style=\"display:none;\">\n",
              "\n",
              "  <svg xmlns=\"http://www.w3.org/2000/svg\" height=\"24px\" viewBox=\"0 -960 960 960\">\n",
              "    <path d=\"M120-120v-720h720v720H120Zm60-500h600v-160H180v160Zm220 220h160v-160H400v160Zm0 220h160v-160H400v160ZM180-400h160v-160H180v160Zm440 0h160v-160H620v160ZM180-180h160v-160H180v160Zm440 0h160v-160H620v160Z\"/>\n",
              "  </svg>\n",
              "    </button>\n",
              "\n",
              "  <style>\n",
              "    .colab-df-container {\n",
              "      display:flex;\n",
              "      gap: 12px;\n",
              "    }\n",
              "\n",
              "    .colab-df-convert {\n",
              "      background-color: #E8F0FE;\n",
              "      border: none;\n",
              "      border-radius: 50%;\n",
              "      cursor: pointer;\n",
              "      display: none;\n",
              "      fill: #1967D2;\n",
              "      height: 32px;\n",
              "      padding: 0 0 0 0;\n",
              "      width: 32px;\n",
              "    }\n",
              "\n",
              "    .colab-df-convert:hover {\n",
              "      background-color: #E2EBFA;\n",
              "      box-shadow: 0px 1px 2px rgba(60, 64, 67, 0.3), 0px 1px 3px 1px rgba(60, 64, 67, 0.15);\n",
              "      fill: #174EA6;\n",
              "    }\n",
              "\n",
              "    .colab-df-buttons div {\n",
              "      margin-bottom: 4px;\n",
              "    }\n",
              "\n",
              "    [theme=dark] .colab-df-convert {\n",
              "      background-color: #3B4455;\n",
              "      fill: #D2E3FC;\n",
              "    }\n",
              "\n",
              "    [theme=dark] .colab-df-convert:hover {\n",
              "      background-color: #434B5C;\n",
              "      box-shadow: 0px 1px 3px 1px rgba(0, 0, 0, 0.15);\n",
              "      filter: drop-shadow(0px 1px 2px rgba(0, 0, 0, 0.3));\n",
              "      fill: #FFFFFF;\n",
              "    }\n",
              "  </style>\n",
              "\n",
              "    <script>\n",
              "      const buttonEl =\n",
              "        document.querySelector('#df-aa5ba433-caf3-4e41-bbfe-3f119a618604 button.colab-df-convert');\n",
              "      buttonEl.style.display =\n",
              "        google.colab.kernel.accessAllowed ? 'block' : 'none';\n",
              "\n",
              "      async function convertToInteractive(key) {\n",
              "        const element = document.querySelector('#df-aa5ba433-caf3-4e41-bbfe-3f119a618604');\n",
              "        const dataTable =\n",
              "          await google.colab.kernel.invokeFunction('convertToInteractive',\n",
              "                                                    [key], {});\n",
              "        if (!dataTable) return;\n",
              "\n",
              "        const docLinkHtml = 'Like what you see? Visit the ' +\n",
              "          '<a target=\"_blank\" href=https://colab.research.google.com/notebooks/data_table.ipynb>data table notebook</a>'\n",
              "          + ' to learn more about interactive tables.';\n",
              "        element.innerHTML = '';\n",
              "        dataTable['output_type'] = 'display_data';\n",
              "        await google.colab.output.renderOutput(dataTable, element);\n",
              "        const docLink = document.createElement('div');\n",
              "        docLink.innerHTML = docLinkHtml;\n",
              "        element.appendChild(docLink);\n",
              "      }\n",
              "    </script>\n",
              "  </div>\n",
              "\n",
              "\n",
              "<div id=\"df-e5e4d41c-e3fc-4a93-8786-114f2492f075\">\n",
              "  <button class=\"colab-df-quickchart\" onclick=\"quickchart('df-e5e4d41c-e3fc-4a93-8786-114f2492f075')\"\n",
              "            title=\"Suggest charts\"\n",
              "            style=\"display:none;\">\n",
              "\n",
              "<svg xmlns=\"http://www.w3.org/2000/svg\" height=\"24px\"viewBox=\"0 0 24 24\"\n",
              "     width=\"24px\">\n",
              "    <g>\n",
              "        <path d=\"M19 3H5c-1.1 0-2 .9-2 2v14c0 1.1.9 2 2 2h14c1.1 0 2-.9 2-2V5c0-1.1-.9-2-2-2zM9 17H7v-7h2v7zm4 0h-2V7h2v10zm4 0h-2v-4h2v4z\"/>\n",
              "    </g>\n",
              "</svg>\n",
              "  </button>\n",
              "\n",
              "<style>\n",
              "  .colab-df-quickchart {\n",
              "      --bg-color: #E8F0FE;\n",
              "      --fill-color: #1967D2;\n",
              "      --hover-bg-color: #E2EBFA;\n",
              "      --hover-fill-color: #174EA6;\n",
              "      --disabled-fill-color: #AAA;\n",
              "      --disabled-bg-color: #DDD;\n",
              "  }\n",
              "\n",
              "  [theme=dark] .colab-df-quickchart {\n",
              "      --bg-color: #3B4455;\n",
              "      --fill-color: #D2E3FC;\n",
              "      --hover-bg-color: #434B5C;\n",
              "      --hover-fill-color: #FFFFFF;\n",
              "      --disabled-bg-color: #3B4455;\n",
              "      --disabled-fill-color: #666;\n",
              "  }\n",
              "\n",
              "  .colab-df-quickchart {\n",
              "    background-color: var(--bg-color);\n",
              "    border: none;\n",
              "    border-radius: 50%;\n",
              "    cursor: pointer;\n",
              "    display: none;\n",
              "    fill: var(--fill-color);\n",
              "    height: 32px;\n",
              "    padding: 0;\n",
              "    width: 32px;\n",
              "  }\n",
              "\n",
              "  .colab-df-quickchart:hover {\n",
              "    background-color: var(--hover-bg-color);\n",
              "    box-shadow: 0 1px 2px rgba(60, 64, 67, 0.3), 0 1px 3px 1px rgba(60, 64, 67, 0.15);\n",
              "    fill: var(--button-hover-fill-color);\n",
              "  }\n",
              "\n",
              "  .colab-df-quickchart-complete:disabled,\n",
              "  .colab-df-quickchart-complete:disabled:hover {\n",
              "    background-color: var(--disabled-bg-color);\n",
              "    fill: var(--disabled-fill-color);\n",
              "    box-shadow: none;\n",
              "  }\n",
              "\n",
              "  .colab-df-spinner {\n",
              "    border: 2px solid var(--fill-color);\n",
              "    border-color: transparent;\n",
              "    border-bottom-color: var(--fill-color);\n",
              "    animation:\n",
              "      spin 1s steps(1) infinite;\n",
              "  }\n",
              "\n",
              "  @keyframes spin {\n",
              "    0% {\n",
              "      border-color: transparent;\n",
              "      border-bottom-color: var(--fill-color);\n",
              "      border-left-color: var(--fill-color);\n",
              "    }\n",
              "    20% {\n",
              "      border-color: transparent;\n",
              "      border-left-color: var(--fill-color);\n",
              "      border-top-color: var(--fill-color);\n",
              "    }\n",
              "    30% {\n",
              "      border-color: transparent;\n",
              "      border-left-color: var(--fill-color);\n",
              "      border-top-color: var(--fill-color);\n",
              "      border-right-color: var(--fill-color);\n",
              "    }\n",
              "    40% {\n",
              "      border-color: transparent;\n",
              "      border-right-color: var(--fill-color);\n",
              "      border-top-color: var(--fill-color);\n",
              "    }\n",
              "    60% {\n",
              "      border-color: transparent;\n",
              "      border-right-color: var(--fill-color);\n",
              "    }\n",
              "    80% {\n",
              "      border-color: transparent;\n",
              "      border-right-color: var(--fill-color);\n",
              "      border-bottom-color: var(--fill-color);\n",
              "    }\n",
              "    90% {\n",
              "      border-color: transparent;\n",
              "      border-bottom-color: var(--fill-color);\n",
              "    }\n",
              "  }\n",
              "</style>\n",
              "\n",
              "  <script>\n",
              "    async function quickchart(key) {\n",
              "      const quickchartButtonEl =\n",
              "        document.querySelector('#' + key + ' button');\n",
              "      quickchartButtonEl.disabled = true;  // To prevent multiple clicks.\n",
              "      quickchartButtonEl.classList.add('colab-df-spinner');\n",
              "      try {\n",
              "        const charts = await google.colab.kernel.invokeFunction(\n",
              "            'suggestCharts', [key], {});\n",
              "      } catch (error) {\n",
              "        console.error('Error during call to suggestCharts:', error);\n",
              "      }\n",
              "      quickchartButtonEl.classList.remove('colab-df-spinner');\n",
              "      quickchartButtonEl.classList.add('colab-df-quickchart-complete');\n",
              "    }\n",
              "    (() => {\n",
              "      let quickchartButtonEl =\n",
              "        document.querySelector('#df-e5e4d41c-e3fc-4a93-8786-114f2492f075 button');\n",
              "      quickchartButtonEl.style.display =\n",
              "        google.colab.kernel.accessAllowed ? 'block' : 'none';\n",
              "    })();\n",
              "  </script>\n",
              "</div>\n",
              "    </div>\n",
              "  </div>\n"
            ]
          },
          "metadata": {}
        },
        {
          "output_type": "stream",
          "name": "stdout",
          "text": [
            "                            OLS Regression Results                            \n",
            "==============================================================================\n",
            "Dep. Variable:             dependente   R-squared:                       0.529\n",
            "Model:                            OLS   Adj. R-squared:                  0.059\n",
            "Method:                 Least Squares   F-statistic:                     1.125\n",
            "Date:                Fri, 24 Nov 2023   Prob (F-statistic):              0.471\n",
            "Time:                        02:32:30   Log-Likelihood:                 2.8805\n",
            "No. Observations:                   5   AIC:                            0.2389\n",
            "Df Residuals:                       2   BIC:                           -0.9328\n",
            "Df Model:                           2                                         \n",
            "Covariance Type:            nonrobust                                         \n",
            "=================================================================================\n",
            "                    coef    std err          t      P>|t|      [0.025      0.975]\n",
            "---------------------------------------------------------------------------------\n",
            "const             0.4785      0.274      1.748      0.223      -0.699       1.656\n",
            "independente1    -0.3141      0.303     -1.035      0.409      -1.620       0.991\n",
            "independente2     0.5503      0.453      1.213      0.349      -1.401       2.502\n",
            "==============================================================================\n",
            "Omnibus:                          nan   Durbin-Watson:                   2.613\n",
            "Prob(Omnibus):                    nan   Jarque-Bera (JB):                0.327\n",
            "Skew:                           0.275   Prob(JB):                        0.849\n",
            "Kurtosis:                       1.874   Cond. No.                         6.50\n",
            "==============================================================================\n",
            "\n",
            "Notes:\n",
            "[1] Standard Errors assume that the covariance matrix of the errors is correctly specified.\n"
          ]
        },
        {
          "output_type": "stream",
          "name": "stderr",
          "text": [
            "/usr/local/lib/python3.10/dist-packages/statsmodels/stats/stattools.py:74: ValueWarning: omni_normtest is not valid with less than 8 observations; 5 samples were given.\n",
            "  warn(\"omni_normtest is not valid with less than 8 observations; %i \"\n"
          ]
        }
      ],
      "source": [
        "import statsmodels.api as sm\n",
        "\n",
        "dados2 = pd.DataFrame({\n",
        "    'dependente': np.random.rand(5),\n",
        "    'independente1': np.random.rand(5),\n",
        "    'independente2': np.random.rand(5)\n",
        "})\n",
        "display(dados2)\n",
        "# X dependentes e Y independentes\n",
        "y = dados2['dependente']\n",
        "X = dados2[['independente1', 'independente2']]\n",
        "\n",
        "# Adicione uma constante para o intercepto\n",
        "X = sm.add_constant(X)\n",
        "\n",
        "# Ajuste o modelo de regressão linear\n",
        "model = sm.OLS(y, X).fit()\n",
        "\n",
        "# Imprima os resultados\n",
        "print(model.summary())"
      ]
    },
    {
      "cell_type": "markdown",
      "metadata": {
        "id": "6FonWCEvqYn-"
      },
      "source": []
    }
  ],
  "metadata": {
    "colab": {
      "provenance": []
    },
    "kernelspec": {
      "display_name": "Python 3",
      "name": "python3"
    },
    "language_info": {
      "name": "python"
    }
  },
  "nbformat": 4,
  "nbformat_minor": 0
}